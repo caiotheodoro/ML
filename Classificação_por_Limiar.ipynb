{
 "cells": [
  {
   "cell_type": "code",
   "execution_count": 1,
   "metadata": {
    "id": "rkvfUcxq_N_y"
   },
   "outputs": [
    {
     "name": "stderr",
     "output_type": "stream",
     "text": [
      "Matplotlib is building the font cache; this may take a moment.\n"
     ]
    },
    {
     "ename": "ModuleNotFoundError",
     "evalue": "No module named 'sklearn'",
     "output_type": "error",
     "traceback": [
      "\u001b[0;31m---------------------------------------------------------------------------\u001b[0m",
      "\u001b[0;31mModuleNotFoundError\u001b[0m                       Traceback (most recent call last)",
      "Cell \u001b[0;32mIn[1], line 5\u001b[0m\n\u001b[1;32m      3\u001b[0m \u001b[38;5;28;01mimport\u001b[39;00m \u001b[38;5;21;01mmatplotlib\u001b[39;00m\u001b[38;5;21;01m.\u001b[39;00m\u001b[38;5;21;01mpyplot\u001b[39;00m \u001b[38;5;28;01mas\u001b[39;00m \u001b[38;5;21;01mplt\u001b[39;00m\n\u001b[1;32m      4\u001b[0m \u001b[38;5;28;01mimport\u001b[39;00m \u001b[38;5;21;01mseaborn\u001b[39;00m \u001b[38;5;28;01mas\u001b[39;00m \u001b[38;5;21;01msns\u001b[39;00m\n\u001b[0;32m----> 5\u001b[0m \u001b[38;5;28;01mfrom\u001b[39;00m \u001b[38;5;21;01msklearn\u001b[39;00m\u001b[38;5;21;01m.\u001b[39;00m\u001b[38;5;21;01mmetrics\u001b[39;00m \u001b[38;5;28;01mimport\u001b[39;00m accuracy_score\n",
      "\u001b[0;31mModuleNotFoundError\u001b[0m: No module named 'sklearn'"
     ]
    }
   ],
   "source": [
    "import numpy as np\n",
    "import pandas as pd\n",
    "import matplotlib.pyplot as plt\n",
    "import seaborn as sns\n",
    "from sklearn.metrics import accuracy_score"
   ]
  },
  {
   "cell_type": "code",
   "execution_count": null,
   "metadata": {
    "colab": {
     "base_uri": "https://localhost:8080/",
     "height": 206
    },
    "id": "zLEu8HsZ_d-a",
    "outputId": "e9166943-d81e-4ab8-db20-7bb644d2d97a"
   },
   "outputs": [],
   "source": [
    "df = pd.read_csv(\"biometria.csv\")\n",
    "df.head()"
   ]
  },
  {
   "cell_type": "code",
   "execution_count": null,
   "metadata": {
    "colab": {
     "base_uri": "https://localhost:8080/",
     "height": 143
    },
    "id": "Jg4-fHc1BRpR",
    "outputId": "feae58ca-9d2f-4844-8bdb-22951139d242"
   },
   "outputs": [],
   "source": [
    "df.groupby(\"Esporte\").describe()[\"Peso (kg)\"]"
   ]
  },
  {
   "cell_type": "code",
   "execution_count": null,
   "metadata": {
    "colab": {
     "base_uri": "https://localhost:8080/",
     "height": 296
    },
    "id": "TxeenyfUBnDA",
    "outputId": "3fd64eac-d032-4ef8-d9d0-5c41dca556f0"
   },
   "outputs": [],
   "source": [
    "sns.histplot(data=df, bins=10, x=\"Altura (m)\", hue=\"Esporte\")"
   ]
  },
  {
   "cell_type": "code",
   "execution_count": null,
   "metadata": {
    "colab": {
     "base_uri": "https://localhost:8080/",
     "height": 296
    },
    "id": "tFoa1xBjEX5R",
    "outputId": "83307ed0-a1c5-4dc9-a3bd-c740b4e7ed26"
   },
   "outputs": [],
   "source": [
    "sns.histplot(data=df, bins=10, x=\"Peso (kg)\", hue=\"Esporte\")"
   ]
  },
  {
   "cell_type": "code",
   "execution_count": null,
   "metadata": {
    "colab": {
     "base_uri": "https://localhost:8080/",
     "height": 296
    },
    "id": "W-VRS5UEFJzE",
    "outputId": "f97de43b-2835-47cb-bda8-b663a01797dc"
   },
   "outputs": [],
   "source": [
    "sns.scatterplot(data=df, x=\"Peso (kg)\", y=\"Altura (m)\", hue=\"Esporte\")\n",
    "plt.axhline(1.9, color=\"red\", label=\"limiar\")"
   ]
  },
  {
   "cell_type": "code",
   "execution_count": null,
   "metadata": {
    "id": "NqCTrfgkF0ws"
   },
   "outputs": [],
   "source": [
    "def classificador_limiar(limiar, dados, coluna, rotulos=[\"F\", \"V\"]):\n",
    "    predicoes = []\n",
    "    for idx, dado in dados.iterrows():\n",
    "        if dado[coluna] < limiar:\n",
    "            predicoes.append(rotulos[0])\n",
    "        else:\n",
    "            predicoes.append(rotulos[1])\n",
    "    return predicoes"
   ]
  },
  {
   "cell_type": "code",
   "execution_count": null,
   "metadata": {
    "id": "7XCwqn2TLVjg"
   },
   "outputs": [],
   "source": [
    "pred = classificador_limiar(1.9, df, \"Altura (m)\")"
   ]
  },
  {
   "cell_type": "code",
   "execution_count": null,
   "metadata": {
    "colab": {
     "base_uri": "https://localhost:8080/"
    },
    "id": "Qu6O-VkbLgMM",
    "outputId": "50bf5944-5f7a-438c-ed17-79d555dd39df"
   },
   "outputs": [],
   "source": [
    "for gab, p in zip(df['Esporte'].values, pred):\n",
    "    print(gab, p)"
   ]
  },
  {
   "cell_type": "code",
   "execution_count": null,
   "metadata": {
    "colab": {
     "base_uri": "https://localhost:8080/",
     "height": 35
    },
    "id": "rVuSF_0sLhwv",
    "outputId": "82cb0f58-b7f6-4fb7-e88e-48d7b84549f1"
   },
   "outputs": [],
   "source": [
    "acc = accuracy_score(df['Esporte'], pred)\n",
    "\"%.2f\" % (acc)"
   ]
  },
  {
   "cell_type": "code",
   "execution_count": null,
   "metadata": {
    "colab": {
     "base_uri": "https://localhost:8080/"
    },
    "id": "wHj7kcW5Nub0",
    "outputId": "94f22e9d-8f48-4d05-c4b4-ad442faca287"
   },
   "outputs": [],
   "source": [
    "n_limiares = 100\n",
    "limiares = np.linspace(df['Altura (m)'].min(), \n",
    "                       df['Altura (m)'].max(), n_limiares)\n",
    "acuracias = []\n",
    "\n",
    "melhor_limiar = limiares[0]\n",
    "melhor_acuracia = 0\n",
    "\n",
    "for limiar in limiares:\n",
    "    predicoes = classificador_limiar(limiar, df, 'Altura (m)')\n",
    "    acuracia = accuracy_score(df['Esporte'], predicoes)\n",
    "    acuracias.append(acuracia)\n",
    "\n",
    "    if acuracia > melhor_acuracia:\n",
    "        melhor_acuracia = acuracia\n",
    "        melhor_limiar = limiar\n",
    "\n",
    "print(\"Melhor limiar: %.2f, Melhor acurácia: %.2f\" % \n",
    "      (melhor_limiar, melhor_acuracia))\n",
    "\n"
   ]
  },
  {
   "cell_type": "code",
   "execution_count": null,
   "metadata": {
    "colab": {
     "base_uri": "https://localhost:8080/",
     "height": 282
    },
    "id": "uLWFeS1RP79k",
    "outputId": "07fb608c-25f0-4c67-e125-712859aaab5e"
   },
   "outputs": [],
   "source": [
    "plt.plot(limiares, acuracias)\n",
    "plt.axvline(melhor_limiar, color='red')"
   ]
  },
  {
   "cell_type": "code",
   "execution_count": null,
   "metadata": {
    "id": "oe-zNNgTPnTq"
   },
   "outputs": [],
   "source": []
  },
  {
   "cell_type": "code",
   "execution_count": null,
   "metadata": {},
   "outputs": [],
   "source": []
  }
 ],
 "metadata": {
  "colab": {
   "provenance": [],
   "toc_visible": true
  },
  "kernelspec": {
   "display_name": "Python 3 (ipykernel)",
   "language": "python",
   "name": "python3"
  },
  "language_info": {
   "codemirror_mode": {
    "name": "ipython",
    "version": 3
   },
   "file_extension": ".py",
   "mimetype": "text/x-python",
   "name": "python",
   "nbconvert_exporter": "python",
   "pygments_lexer": "ipython3",
   "version": "3.10.6"
  }
 },
 "nbformat": 4,
 "nbformat_minor": 1
}
