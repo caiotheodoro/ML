{
 "cells": [
  {
   "cell_type": "code",
   "execution_count": 24,
   "id": "995f2ffa",
   "metadata": {},
   "outputs": [],
   "source": [
    "from sklearn.datasets import load_iris\n",
    "from sklearn.preprocessing import StandardScaler\n",
    "from sklearn.neighbors import KNeighborsClassifier\n",
    "from sklearn.model_selection import train_test_split, StratifiedKFold, GridSearchCV\n",
    "from sklearn.metrics import accuracy_score\n",
    "import pandas as pd\n",
    "import numpy as np\n",
    "import seaborn as sns\n",
    "import matplotlib.pyplot as plt"
   ]
  },
  {
   "cell_type": "code",
   "execution_count": 2,
   "id": "0b7b4644",
   "metadata": {},
   "outputs": [],
   "source": [
    "def selecionar_melhor_k(ks, X_treino, X_val, y_treino, y_val):\n",
    "    acuracias_val = []\n",
    "    for k in ks:\n",
    "        knn = KNeighborsClassifier(n_neighbors=k)\n",
    "        knn.fit(X_treino, y_treino)\n",
    "        pred = knn.predict(X_val)\n",
    "        acuracias_val.append(accuracy_score(y_val, pred))\n",
    "\n",
    "    melhor_val = max(acuracias_val)\n",
    "    melhor_k = ks[np.argmax(acuracias_val)]\n",
    "\n",
    "    knn = KNeighborsClassifier(n_neighbors=melhor_k)\n",
    "    knn.fit(np.vstack((X_treino, X_val)), [*y_treino, *y_val])\n",
    "    \n",
    "    return knn, melhor_k, melhor_val"
   ]
  },
  {
   "cell_type": "code",
   "execution_count": 3,
   "id": "43f24333",
   "metadata": {},
   "outputs": [],
   "source": [
    "ds = load_iris(as_frame=True)\n",
    "df = ds.frame\n",
    "X = ds.data.values\n",
    "y = ds.target.values"
   ]
  },
  {
   "cell_type": "code",
   "execution_count": 26,
   "id": "fc47df2c",
   "metadata": {},
   "outputs": [],
   "source": [
    "folds = 10\n",
    "k2=5\n",
    "skf = StratifiedKFold(n_splits=folds)\n",
    "\n",
    "acuracias = []\n",
    "\n",
    "for idx_treino, idx_teste in skf.split(X,y):\n",
    "    X_treino = X[idx_treino]\n",
    "    y_treino = y[idx_treino]\n",
    "\n",
    "    X_teste = X[idx_teste]\n",
    "    y_teste = y[idx_teste]\n",
    "    \n",
    "    ss=StandardScaler()\n",
    "    ss.fit(X_treino)\n",
    "    X_treino = ss.transform(X_treino)\n",
    "    X_val = ss.transform(X_val)\n",
    "    X_teste = ss.transform(X_teste)\n",
    "    \n",
    "    params = {\"n_neighbors\" : range(1,30,2)}\n",
    "    knn = KNeighborsClassifier()\n",
    "    knn = GridSearchCV(knn,params,cv=StratifiedKFold(n_splits=k2))\n",
    "    knn.fit(X_treino,y_treino)\n",
    "    \n",
    "    \n",
    "    acuracias.append(accuracy_score(y_teste,knn.predict(X_teste)))\n"
   ]
  },
  {
   "cell_type": "code",
   "execution_count": 27,
   "id": "a48d61b5",
   "metadata": {},
   "outputs": [
    {
     "data": {
      "text/plain": [
       "'0.95 +- 0.05 (min: 0.87, max: 1.00)'"
      ]
     },
     "execution_count": 27,
     "metadata": {},
     "output_type": "execute_result"
    }
   ],
   "source": [
    "\"%.2f +- %.2f (min: %.2f, max: %.2f)\" % (np.mean(acuracias), np.std(acuracias), min(acuracias), max(acuracias))"
   ]
  },
  {
   "cell_type": "code",
   "execution_count": 28,
   "id": "bb523fe2",
   "metadata": {},
   "outputs": [
    {
     "data": {
      "text/plain": [
       "[1.0,\n",
       " 0.9333333333333333,\n",
       " 1.0,\n",
       " 0.9333333333333333,\n",
       " 0.8666666666666667,\n",
       " 0.9333333333333333,\n",
       " 0.8666666666666667,\n",
       " 1.0,\n",
       " 1.0,\n",
       " 1.0]"
      ]
     },
     "execution_count": 28,
     "metadata": {},
     "output_type": "execute_result"
    }
   ],
   "source": [
    "acuracias"
   ]
  }
 ],
 "metadata": {
  "kernelspec": {
   "display_name": "Python 3 (ipykernel)",
   "language": "python",
   "name": "python3"
  },
  "language_info": {
   "codemirror_mode": {
    "name": "ipython",
    "version": 3
   },
   "file_extension": ".py",
   "mimetype": "text/x-python",
   "name": "python",
   "nbconvert_exporter": "python",
   "pygments_lexer": "ipython3",
   "version": "3.10.6"
  }
 },
 "nbformat": 4,
 "nbformat_minor": 5
}
