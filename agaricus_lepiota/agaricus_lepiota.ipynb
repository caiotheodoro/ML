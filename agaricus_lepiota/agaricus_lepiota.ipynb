{
 "cells": [
  {
   "cell_type": "code",
   "execution_count": 216,
   "id": "f9676917",
   "metadata": {},
   "outputs": [],
   "source": [
    "import pandas as pd\n",
    "import numpy as np\n",
    "import seaborn as sns\n",
    "from utils import rejeitar_hip_nula\n",
    "from sklearn.neighbors import KNeighborsClassifier\n",
    "from sklearn.metrics import f1_score\n",
    "from sklearn.svm import SVC\n",
    "from sklearn.model_selection import StratifiedKFold\n",
    "\n",
    "\n",
    "from sklearn.model_selection import GridSearchCV\n",
    "\n",
    "from sklearn.discriminant_analysis import StandardScaler\n",
    "\n",
    "\n",
    "from tqdm.notebook import tqdm"
   ]
  },
  {
   "cell_type": "code",
   "execution_count": 207,
   "id": "c9cd32ef",
   "metadata": {},
   "outputs": [],
   "source": [
    "df = pd.read_csv(\"agaricus_lepiota_small_c.csv\")"
   ]
  },
  {
   "cell_type": "code",
   "execution_count": 208,
   "id": "7d126465",
   "metadata": {},
   "outputs": [
    {
     "data": {
      "text/html": [
       "<div>\n",
       "<style scoped>\n",
       "    .dataframe tbody tr th:only-of-type {\n",
       "        vertical-align: middle;\n",
       "    }\n",
       "\n",
       "    .dataframe tbody tr th {\n",
       "        vertical-align: top;\n",
       "    }\n",
       "\n",
       "    .dataframe thead th {\n",
       "        text-align: right;\n",
       "    }\n",
       "</style>\n",
       "<table border=\"1\" class=\"dataframe\">\n",
       "  <thead>\n",
       "    <tr style=\"text-align: right;\">\n",
       "      <th></th>\n",
       "      <th>class</th>\n",
       "      <th>cap-shape</th>\n",
       "      <th>cap-surface</th>\n",
       "      <th>cap-color</th>\n",
       "      <th>bruises</th>\n",
       "      <th>odor</th>\n",
       "      <th>gill-attachment</th>\n",
       "      <th>gill-spacing</th>\n",
       "      <th>gill-size</th>\n",
       "      <th>gill-color</th>\n",
       "      <th>...</th>\n",
       "      <th>stalk-surface-below-ring</th>\n",
       "      <th>stalk-color-above-ring</th>\n",
       "      <th>stalk-color-below-ring</th>\n",
       "      <th>veil-type</th>\n",
       "      <th>veil-color</th>\n",
       "      <th>ring-number</th>\n",
       "      <th>ring-type</th>\n",
       "      <th>spore-print-color</th>\n",
       "      <th>population</th>\n",
       "      <th>habitat</th>\n",
       "    </tr>\n",
       "  </thead>\n",
       "  <tbody>\n",
       "    <tr>\n",
       "      <th>0</th>\n",
       "      <td>e</td>\n",
       "      <td>x</td>\n",
       "      <td>s</td>\n",
       "      <td>y</td>\n",
       "      <td>t</td>\n",
       "      <td>a</td>\n",
       "      <td>f</td>\n",
       "      <td>w</td>\n",
       "      <td>b</td>\n",
       "      <td>g</td>\n",
       "      <td>...</td>\n",
       "      <td>s</td>\n",
       "      <td>w</td>\n",
       "      <td>w</td>\n",
       "      <td>p</td>\n",
       "      <td>w</td>\n",
       "      <td>o</td>\n",
       "      <td>p</td>\n",
       "      <td>n</td>\n",
       "      <td>v</td>\n",
       "      <td>d</td>\n",
       "    </tr>\n",
       "    <tr>\n",
       "      <th>1</th>\n",
       "      <td>e</td>\n",
       "      <td>f</td>\n",
       "      <td>s</td>\n",
       "      <td>y</td>\n",
       "      <td>f</td>\n",
       "      <td>n</td>\n",
       "      <td>f</td>\n",
       "      <td>c</td>\n",
       "      <td>b</td>\n",
       "      <td>p</td>\n",
       "      <td>...</td>\n",
       "      <td>s</td>\n",
       "      <td>w</td>\n",
       "      <td>w</td>\n",
       "      <td>p</td>\n",
       "      <td>w</td>\n",
       "      <td>o</td>\n",
       "      <td>f</td>\n",
       "      <td>n</td>\n",
       "      <td>y</td>\n",
       "      <td>g</td>\n",
       "    </tr>\n",
       "    <tr>\n",
       "      <th>2</th>\n",
       "      <td>e</td>\n",
       "      <td>k</td>\n",
       "      <td>s</td>\n",
       "      <td>w</td>\n",
       "      <td>f</td>\n",
       "      <td>c</td>\n",
       "      <td>f</td>\n",
       "      <td>w</td>\n",
       "      <td>b</td>\n",
       "      <td>g</td>\n",
       "      <td>...</td>\n",
       "      <td>s</td>\n",
       "      <td>w</td>\n",
       "      <td>n</td>\n",
       "      <td>p</td>\n",
       "      <td>w</td>\n",
       "      <td>t</td>\n",
       "      <td>e</td>\n",
       "      <td>w</td>\n",
       "      <td>n</td>\n",
       "      <td>g</td>\n",
       "    </tr>\n",
       "    <tr>\n",
       "      <th>3</th>\n",
       "      <td>e</td>\n",
       "      <td>f</td>\n",
       "      <td>f</td>\n",
       "      <td>n</td>\n",
       "      <td>t</td>\n",
       "      <td>n</td>\n",
       "      <td>f</td>\n",
       "      <td>c</td>\n",
       "      <td>b</td>\n",
       "      <td>w</td>\n",
       "      <td>...</td>\n",
       "      <td>s</td>\n",
       "      <td>g</td>\n",
       "      <td>w</td>\n",
       "      <td>p</td>\n",
       "      <td>w</td>\n",
       "      <td>o</td>\n",
       "      <td>p</td>\n",
       "      <td>k</td>\n",
       "      <td>v</td>\n",
       "      <td>d</td>\n",
       "    </tr>\n",
       "    <tr>\n",
       "      <th>4</th>\n",
       "      <td>p</td>\n",
       "      <td>x</td>\n",
       "      <td>s</td>\n",
       "      <td>w</td>\n",
       "      <td>t</td>\n",
       "      <td>p</td>\n",
       "      <td>f</td>\n",
       "      <td>c</td>\n",
       "      <td>n</td>\n",
       "      <td>w</td>\n",
       "      <td>...</td>\n",
       "      <td>s</td>\n",
       "      <td>w</td>\n",
       "      <td>w</td>\n",
       "      <td>p</td>\n",
       "      <td>w</td>\n",
       "      <td>o</td>\n",
       "      <td>p</td>\n",
       "      <td>n</td>\n",
       "      <td>s</td>\n",
       "      <td>u</td>\n",
       "    </tr>\n",
       "  </tbody>\n",
       "</table>\n",
       "<p>5 rows × 23 columns</p>\n",
       "</div>"
      ],
      "text/plain": [
       "  class cap-shape cap-surface cap-color bruises odor gill-attachment  \\\n",
       "0     e         x           s         y       t    a               f   \n",
       "1     e         f           s         y       f    n               f   \n",
       "2     e         k           s         w       f    c               f   \n",
       "3     e         f           f         n       t    n               f   \n",
       "4     p         x           s         w       t    p               f   \n",
       "\n",
       "  gill-spacing gill-size gill-color  ... stalk-surface-below-ring  \\\n",
       "0            w         b          g  ...                        s   \n",
       "1            c         b          p  ...                        s   \n",
       "2            w         b          g  ...                        s   \n",
       "3            c         b          w  ...                        s   \n",
       "4            c         n          w  ...                        s   \n",
       "\n",
       "  stalk-color-above-ring stalk-color-below-ring veil-type veil-color  \\\n",
       "0                      w                      w         p          w   \n",
       "1                      w                      w         p          w   \n",
       "2                      w                      n         p          w   \n",
       "3                      g                      w         p          w   \n",
       "4                      w                      w         p          w   \n",
       "\n",
       "  ring-number ring-type spore-print-color population habitat  \n",
       "0           o         p                 n          v       d  \n",
       "1           o         f                 n          y       g  \n",
       "2           t         e                 w          n       g  \n",
       "3           o         p                 k          v       d  \n",
       "4           o         p                 n          s       u  \n",
       "\n",
       "[5 rows x 23 columns]"
      ]
     },
     "execution_count": 208,
     "metadata": {},
     "output_type": "execute_result"
    }
   ],
   "source": [
    "df.head()"
   ]
  },
  {
   "attachments": {},
   "cell_type": "markdown",
   "id": "854f68c9",
   "metadata": {},
   "source": [
    "## Codificando o atributo de saída (class) para:\n",
    "### e → 0, p → 1"
   ]
  },
  {
   "cell_type": "code",
   "execution_count": 209,
   "id": "b0d0b510",
   "metadata": {},
   "outputs": [],
   "source": [
    "df[\"class\"] = df[\"class\"].replace(\"p\", \"1\")\n",
    "df[\"class\"] = df[\"class\"].replace(\"e\", \"0\")"
   ]
  },
  {
   "cell_type": "code",
   "execution_count": 210,
   "id": "1e6906bc",
   "metadata": {},
   "outputs": [
    {
     "data": {
      "text/html": [
       "<div>\n",
       "<style scoped>\n",
       "    .dataframe tbody tr th:only-of-type {\n",
       "        vertical-align: middle;\n",
       "    }\n",
       "\n",
       "    .dataframe tbody tr th {\n",
       "        vertical-align: top;\n",
       "    }\n",
       "\n",
       "    .dataframe thead th {\n",
       "        text-align: right;\n",
       "    }\n",
       "</style>\n",
       "<table border=\"1\" class=\"dataframe\">\n",
       "  <thead>\n",
       "    <tr style=\"text-align: right;\">\n",
       "      <th></th>\n",
       "      <th>class</th>\n",
       "      <th>cap-shape</th>\n",
       "      <th>cap-surface</th>\n",
       "      <th>cap-color</th>\n",
       "      <th>bruises</th>\n",
       "      <th>odor</th>\n",
       "      <th>gill-attachment</th>\n",
       "      <th>gill-spacing</th>\n",
       "      <th>gill-size</th>\n",
       "      <th>gill-color</th>\n",
       "      <th>...</th>\n",
       "      <th>stalk-surface-below-ring</th>\n",
       "      <th>stalk-color-above-ring</th>\n",
       "      <th>stalk-color-below-ring</th>\n",
       "      <th>veil-type</th>\n",
       "      <th>veil-color</th>\n",
       "      <th>ring-number</th>\n",
       "      <th>ring-type</th>\n",
       "      <th>spore-print-color</th>\n",
       "      <th>population</th>\n",
       "      <th>habitat</th>\n",
       "    </tr>\n",
       "  </thead>\n",
       "  <tbody>\n",
       "    <tr>\n",
       "      <th>0</th>\n",
       "      <td>0</td>\n",
       "      <td>x</td>\n",
       "      <td>s</td>\n",
       "      <td>y</td>\n",
       "      <td>t</td>\n",
       "      <td>a</td>\n",
       "      <td>f</td>\n",
       "      <td>w</td>\n",
       "      <td>b</td>\n",
       "      <td>g</td>\n",
       "      <td>...</td>\n",
       "      <td>s</td>\n",
       "      <td>w</td>\n",
       "      <td>w</td>\n",
       "      <td>p</td>\n",
       "      <td>w</td>\n",
       "      <td>o</td>\n",
       "      <td>p</td>\n",
       "      <td>n</td>\n",
       "      <td>v</td>\n",
       "      <td>d</td>\n",
       "    </tr>\n",
       "    <tr>\n",
       "      <th>1</th>\n",
       "      <td>0</td>\n",
       "      <td>f</td>\n",
       "      <td>s</td>\n",
       "      <td>y</td>\n",
       "      <td>f</td>\n",
       "      <td>n</td>\n",
       "      <td>f</td>\n",
       "      <td>c</td>\n",
       "      <td>b</td>\n",
       "      <td>p</td>\n",
       "      <td>...</td>\n",
       "      <td>s</td>\n",
       "      <td>w</td>\n",
       "      <td>w</td>\n",
       "      <td>p</td>\n",
       "      <td>w</td>\n",
       "      <td>o</td>\n",
       "      <td>f</td>\n",
       "      <td>n</td>\n",
       "      <td>y</td>\n",
       "      <td>g</td>\n",
       "    </tr>\n",
       "    <tr>\n",
       "      <th>2</th>\n",
       "      <td>0</td>\n",
       "      <td>k</td>\n",
       "      <td>s</td>\n",
       "      <td>w</td>\n",
       "      <td>f</td>\n",
       "      <td>c</td>\n",
       "      <td>f</td>\n",
       "      <td>w</td>\n",
       "      <td>b</td>\n",
       "      <td>g</td>\n",
       "      <td>...</td>\n",
       "      <td>s</td>\n",
       "      <td>w</td>\n",
       "      <td>n</td>\n",
       "      <td>p</td>\n",
       "      <td>w</td>\n",
       "      <td>t</td>\n",
       "      <td>e</td>\n",
       "      <td>w</td>\n",
       "      <td>n</td>\n",
       "      <td>g</td>\n",
       "    </tr>\n",
       "    <tr>\n",
       "      <th>3</th>\n",
       "      <td>0</td>\n",
       "      <td>f</td>\n",
       "      <td>f</td>\n",
       "      <td>n</td>\n",
       "      <td>t</td>\n",
       "      <td>n</td>\n",
       "      <td>f</td>\n",
       "      <td>c</td>\n",
       "      <td>b</td>\n",
       "      <td>w</td>\n",
       "      <td>...</td>\n",
       "      <td>s</td>\n",
       "      <td>g</td>\n",
       "      <td>w</td>\n",
       "      <td>p</td>\n",
       "      <td>w</td>\n",
       "      <td>o</td>\n",
       "      <td>p</td>\n",
       "      <td>k</td>\n",
       "      <td>v</td>\n",
       "      <td>d</td>\n",
       "    </tr>\n",
       "    <tr>\n",
       "      <th>4</th>\n",
       "      <td>1</td>\n",
       "      <td>x</td>\n",
       "      <td>s</td>\n",
       "      <td>w</td>\n",
       "      <td>t</td>\n",
       "      <td>p</td>\n",
       "      <td>f</td>\n",
       "      <td>c</td>\n",
       "      <td>n</td>\n",
       "      <td>w</td>\n",
       "      <td>...</td>\n",
       "      <td>s</td>\n",
       "      <td>w</td>\n",
       "      <td>w</td>\n",
       "      <td>p</td>\n",
       "      <td>w</td>\n",
       "      <td>o</td>\n",
       "      <td>p</td>\n",
       "      <td>n</td>\n",
       "      <td>s</td>\n",
       "      <td>u</td>\n",
       "    </tr>\n",
       "  </tbody>\n",
       "</table>\n",
       "<p>5 rows × 23 columns</p>\n",
       "</div>"
      ],
      "text/plain": [
       "  class cap-shape cap-surface cap-color bruises odor gill-attachment  \\\n",
       "0     0         x           s         y       t    a               f   \n",
       "1     0         f           s         y       f    n               f   \n",
       "2     0         k           s         w       f    c               f   \n",
       "3     0         f           f         n       t    n               f   \n",
       "4     1         x           s         w       t    p               f   \n",
       "\n",
       "  gill-spacing gill-size gill-color  ... stalk-surface-below-ring  \\\n",
       "0            w         b          g  ...                        s   \n",
       "1            c         b          p  ...                        s   \n",
       "2            w         b          g  ...                        s   \n",
       "3            c         b          w  ...                        s   \n",
       "4            c         n          w  ...                        s   \n",
       "\n",
       "  stalk-color-above-ring stalk-color-below-ring veil-type veil-color  \\\n",
       "0                      w                      w         p          w   \n",
       "1                      w                      w         p          w   \n",
       "2                      w                      n         p          w   \n",
       "3                      g                      w         p          w   \n",
       "4                      w                      w         p          w   \n",
       "\n",
       "  ring-number ring-type spore-print-color population habitat  \n",
       "0           o         p                 n          v       d  \n",
       "1           o         f                 n          y       g  \n",
       "2           t         e                 w          n       g  \n",
       "3           o         p                 k          v       d  \n",
       "4           o         p                 n          s       u  \n",
       "\n",
       "[5 rows x 23 columns]"
      ]
     },
     "execution_count": 210,
     "metadata": {},
     "output_type": "execute_result"
    }
   ],
   "source": [
    "df.head()"
   ]
  },
  {
   "cell_type": "code",
   "execution_count": 211,
   "id": "42604886",
   "metadata": {},
   "outputs": [
    {
     "data": {
      "text/plain": [
       "<Axes: xlabel='stalk-root', ylabel='Count'>"
      ]
     },
     "execution_count": 211,
     "metadata": {},
     "output_type": "execute_result"
    },
    {
     "data": {
      "image/png": "[encoded data removed]",
      "text/plain": [
       "<Figure size 640x480 with 1 Axes>"
      ]
     },
     "metadata": {},
     "output_type": "display_data"
    }
   ],
   "source": [
    " sns.histplot(data=df, bins=10, x='stalk-root', hue='class', multiple='dodge', shrink=0.8)"
   ]
  },
  {
   "attachments": {},
   "cell_type": "markdown",
   "id": "74bdbf4b",
   "metadata": {},
   "source": [
    "## A coluna stalk-root tem atributos faltantes, porém que seus dados podem ser úteis visto que há uma variedade de amostras, então não decidimos excluir a coluna, e sim fazer a  exclusão das instâncias com valores faltantes."
   ]
  },
  {
   "cell_type": "code",
   "execution_count": 212,
   "id": "51331e05",
   "metadata": {},
   "outputs": [
    {
     "data": {
      "text/plain": [
       "310"
      ]
     },
     "execution_count": 212,
     "metadata": {},
     "output_type": "execute_result"
    }
   ],
   "source": [
    "df.isnull().sum().sum() #quantidade de dados faltantes"
   ]
  },
  {
   "cell_type": "code",
   "execution_count": 213,
   "id": "12a29e28",
   "metadata": {},
   "outputs": [
    {
     "data": {
      "text/plain": [
       "0"
      ]
     },
     "execution_count": 213,
     "metadata": {},
     "output_type": "execute_result"
    }
   ],
   "source": [
    "df.dropna(inplace=True)\n",
    "\n",
    "y = df[['class']].values.ravel()\n",
    "X = df.drop('class', axis=1)\n",
    "\n",
    "df.isnull().sum().sum() #quantidade de dados faltantes após a imputação"
   ]
  },
  {
   "attachments": {},
   "cell_type": "markdown",
   "id": "ba57f532",
   "metadata": {},
   "source": [
    "## Codificação dos atributos categóricos\n",
    "\n",
    "### Com a análise das caracteristicas, decidimos codificar as classes:\n",
    "- ring-number (pode ser codificado por ser um valor ordinal, usaremos OrdinalEncoder)\n",
    "- population (pode ser codificado por ser um valor ordinal, usaremos OneHotEncoder)\n",
    "- stalk-shape (valor categórico significativo, pode ser codificado com OneHotEncoder)\n",
    "- gill-size (valor categórico significativo, pode ser codificado com OneHotEncoder)\n",
    "\n",
    "\n",
    " ### Para aplicação do KNN, também faremos o OneHotEncoder nas demais classes.\n",
    "### Feito a codificação, podemos perceber que fomos de 22 atributos para 107. "
   ]
  },
  {
   "cell_type": "code",
   "execution_count": 214,
   "id": "b754006c",
   "metadata": {},
   "outputs": [
    {
     "data": {
      "text/plain": [
       "((690, 107), (690, 22))"
      ]
     },
     "execution_count": 214,
     "metadata": {},
     "output_type": "execute_result"
    }
   ],
   "source": [
    "\n",
    "from sklearn.preprocessing import OneHotEncoder, OrdinalEncoder\n",
    "from sklearn.compose import ColumnTransformer\n",
    "\n",
    "colunas = ['ring-number', 'population', 'stalk-shape', 'gill-size']\n",
    "demais_colunas = [c for c in X.columns if c not in colunas]\n",
    "transformers = [\n",
    "    ('oe_ring-number', OrdinalEncoder(categories=[['n', 'o', 't']]), ['ring-number']), \n",
    "    ('oh_population', OneHotEncoder(), ['population']), #vira 6 colunas\n",
    "    ('oh_stalk-shape', OneHotEncoder(), ['stalk-shape']), #vira 2 colunas\n",
    "    ('og_gill-size', OneHotEncoder(), ['gill-size']), #vira 2 colunas\n",
    "    ('oh_demais_colunas', OneHotEncoder(), demais_colunas) \n",
    "]\n",
    "\n",
    "\n",
    "ct = ColumnTransformer(transformers=transformers, remainder='passthrough')\n",
    "\n",
    "X_ohoe = ct.fit_transform(X).todense()\n",
    "colunas = ct.get_feature_names_out()\n",
    "\n",
    "X_ohoe = pd.DataFrame(X_ohoe, columns=colunas)\n",
    "\n",
    "X_ohoe.shape, X.shape\n",
    "\n",
    "\n"
   ]
  },
  {
   "attachments": {},
   "cell_type": "markdown",
   "id": "d383e112",
   "metadata": {},
   "source": [
    "### Classificador KNN e SVM em dois niveis ( 10 e 5 vias de validação cruzada)"
   ]
  },
  {
   "cell_type": "code",
   "execution_count": 215,
   "id": "696a5c03",
   "metadata": {},
   "outputs": [
    {
     "data": {
      "application/vnd.jupyter.widget-view+json": {
       "model_id": "751eb37378ef4715824dd3e3eb4097a6",
       "version_major": 2,
       "version_minor": 0
      },
      "text/plain": [
       "primeiro nivel (knn e svm):   0%|          | 0/20 [00:00<?, ?it/s]"
      ]
     },
     "metadata": {},
     "output_type": "display_data"
    },
    {
     "name": "stdout",
     "output_type": "stream",
     "text": [
      "------------ KNN ------------\n",
      "Acurácia média:  0.9557932694714253 Acurácia desvio padrão:  0.03272167505557572 Acurácia mínima:  0.8765652951699463 Acurácia máxima:  1.0\n",
      "------------ SVM ------------\n",
      "Acurácia média:  0.9360663684876286 Acurácia desvio padrão:  0.02582357024366689 Acurácia mínima:  0.905909090909091 Acurácia máxima:  0.9705128205128204\n"
     ]
    }
   ],
   "source": [
    "\n",
    "\n",
    "\n",
    "k_niveis = [10,5]\n",
    "n_neighbors = {'n_neighbors' : range(1,30, 2)}\n",
    "svm_params = {'C': [1, 10, 100, 1000], 'gamma': ['auto', 'scale']}\n",
    "acuracias_folds_knn = []\n",
    "acuracias_folds_svm = []\n",
    "\n",
    "skf = StratifiedKFold(n_splits=k_niveis[0], shuffle=True, random_state=1)\n",
    "\n",
    "pgb = tqdm(total=20, desc='primeiro nivel (knn e svm)')\n",
    "\n",
    "for treino_idx, teste_idx in skf.split(X_ohoe, y):\n",
    "    X_treino_1 = X_ohoe.iloc[treino_idx]\n",
    "    y_treino_1 = y[treino_idx]\n",
    "    X_teste_1 = X_ohoe.iloc[teste_idx]\n",
    "    y_teste_1 = y[teste_idx]\n",
    "\n",
    "    ss = StandardScaler()\n",
    "    X_treino_1 = ss.fit_transform(X_treino_1)\n",
    "    X_teste_1 = ss.transform(X_teste_1)\n",
    "\n",
    "    knn = KNeighborsClassifier()\n",
    "    knn = GridSearchCV(knn, n_neighbors, cv=k_niveis[1], scoring='f1_macro')\n",
    "    knn.fit(X_treino_1, y_treino_1)\n",
    "    y_pred = knn.predict(X_teste_1)\n",
    "\n",
    "    acuracias_folds_knn.append(f1_score(y_teste_1, y_pred, average='macro'))\n",
    "    pgb.update(1)\n",
    "\n",
    "    svc = SVC(kernel='rbf')\n",
    "    svc = GridSearchCV(svc, svm_params, cv=k_niveis[1], scoring='f1_macro')\n",
    "    svc.fit(X_treino_1, y_treino_1)\n",
    "    y_pred = svc.predict(X_teste_1)\n",
    "\n",
    "    acuracias_folds_svm.append(f1_score(y_teste_1, y_pred, average='macro'))\n",
    "    pgb.update(1)\n",
    "\n",
    "pgb.close()\n",
    "\n",
    "print(\"------------ KNN ------------\")\n",
    "print(\"Acurácia média: \", np.mean(acuracias_folds_knn), \"Acurácia desvio padrão: \", np.std(acuracias_folds_knn), \"Acurácia mínima: \", np.min(acuracias_folds_knn), \"Acurácia máxima: \", np.max(acuracias_folds_knn))\n",
    "\n",
    "\n",
    "print(\"------------ SVM ------------\")\n",
    "print(\"Acurácia média: \", np.mean(acuracias_folds_svm), \"Acurácia desvio padrão: \", np.std(acuracias_folds_svm), \"Acurácia mínima: \", np.min(acuracias_folds_svm), \"Acurácia máxima: \", np.max(acuracias_folds_svm))\n",
    "\n",
    "    "
   ]
  },
  {
   "attachments": {},
   "cell_type": "markdown",
   "id": "6505071a",
   "metadata": {},
   "source": []
  },
  {
   "attachments": {},
   "cell_type": "markdown",
   "id": "6f89efd0",
   "metadata": {},
   "source": [
    "### Podemos observar que o KNN teve um desempenho melhor que o SVM, faremos o teste de hipótese para confirmar se há diferença significativa entre os dois classificadores."
   ]
  },
  {
   "cell_type": "code",
   "execution_count": 217,
   "id": "c80af3a5",
   "metadata": {},
   "outputs": [
    {
     "name": "stdout",
     "output_type": "stream",
     "text": [
      "(False, 0.15184187217491765)\n"
     ]
    }
   ],
   "source": [
    "\n",
    "### Teste de hipótese\n",
    "print(rejeitar_hip_nula(acuracias_folds_knn, acuracias_folds_svm, 0.05))"
   ]
  },
  {
   "attachments": {},
   "cell_type": "markdown",
   "id": "11eda078",
   "metadata": {},
   "source": [
    "### Conclusão\n",
    "### Portanto, podemos concluir que não há diferença significativa entre os modelos KNN e SVM, visto que a acurácia de ambos é muito próxima, e o p-valor foi menor que 0.05."
   ]
  },
  {
   "attachments": {},
   "cell_type": "markdown",
   "id": "ec9d74c0",
   "metadata": {},
   "source": [
    "Você usaria algum classificador que criou para decidir se comeria ou não um cogumelo classificado por\n",
    "ele? Justifique usando o desempenho obtido e o resultado do teste de hipótese. Esta resposta deve estar\n",
    "no final do caderno jupyter, após a análise estatística.\n",
    "\n",
    "R: Sim, usaria o classificador KNN, pelo alto desempenho e por não haver diferença significativa entre os modelos KNN e SVM."
   ]
  },
  {
   "attachments": {},
   "cell_type": "markdown",
   "id": "b36d5a24",
   "metadata": {},
   "source": []
  }
 ],
 "metadata": {
  "kernelspec": {
   "display_name": "Python 3 (ipykernel)",
   "language": "python",
   "name": "python3"
  },
  "language_info": {
   "codemirror_mode": {
    "name": "ipython",
    "version": 3
   },
   "file_extension": ".py",
   "mimetype": "text/x-python",
   "name": "python",
   "nbconvert_exporter": "python",
   "pygments_lexer": "ipython3",
   "version": "3.10.11"
  }
 },
 "nbformat": 4,
 "nbformat_minor": 5
}
