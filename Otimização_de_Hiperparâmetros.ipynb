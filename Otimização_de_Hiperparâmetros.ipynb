{
 "cells": [
  {
   "cell_type": "code",
   "execution_count": 29,
   "metadata": {
    "id": "L2m75pwsLLf6"
   },
   "outputs": [],
   "source": [
    "from sklearn.datasets import load_iris\n",
    "from sklearn.preprocessing import StandardScaler\n",
    "from sklearn.neighbors import KNeighborsClassifier\n",
    "from sklearn.model_selection import train_test_split, StratifiedKFold\n",
    "from sklearn.metrics import accuracy_score\n",
    "import pandas as pd\n",
    "import numpy as np\n",
    "import seaborn as sns\n",
    "import matplotlib.pyplot as plt"
   ]
  },
  {
   "cell_type": "code",
   "execution_count": null,
   "metadata": {},
   "outputs": [],
   "source": []
  },
  {
   "cell_type": "code",
   "execution_count": 12,
   "metadata": {
    "id": "0Wr9FfyCMMgN"
   },
   "outputs": [],
   "source": [
    "ds = load_iris(as_frame=True)\n",
    "X = ds.data.values\n",
    "y = ds.target.values"
   ]
  },
  {
   "cell_type": "code",
   "execution_count": 13,
   "metadata": {
    "id": "Y6_74iC9NCc7"
   },
   "outputs": [],
   "source": [
    "X_treino, X_teste, y_treino, y_teste = train_test_split(\n",
    "    X, y, test_size=0.2, stratify=y, random_state=1\n",
    ")"
   ]
  },
  {
   "cell_type": "code",
   "execution_count": 14,
   "metadata": {
    "colab": {
     "base_uri": "https://localhost:8080/"
    },
    "id": "LUbIpqMWMVoW",
    "outputId": "1d2b5f65-1a51-4906-9529-10662c91bdb6"
   },
   "outputs": [
    {
     "data": {
      "text/plain": [
       "((120, 4), (120,), (30, 4), (30,))"
      ]
     },
     "execution_count": 14,
     "metadata": {},
     "output_type": "execute_result"
    }
   ],
   "source": [
    "X_treino.shape, y_treino.shape, X_teste.shape, y_teste.shape"
   ]
  },
  {
   "cell_type": "markdown",
   "metadata": {
    "id": "5obHvL-VNi5v"
   },
   "source": [
    "# Como NÃO fazer!"
   ]
  },
  {
   "cell_type": "code",
   "execution_count": 15,
   "metadata": {
    "id": "gn0RY8ZaNXzP"
   },
   "outputs": [],
   "source": [
    "ss = StandardScaler()\n",
    "ss.fit(X_treino)\n",
    "X_treino = ss.transform(X_treino)\n",
    "X_teste = ss.transform(X_teste)"
   ]
  },
  {
   "cell_type": "code",
   "execution_count": 16,
   "metadata": {
    "id": "n5QAGEcDN4AV"
   },
   "outputs": [],
   "source": [
    "acuracias = []\n",
    "ks = list(range(1,30,2))\n",
    "\n",
    "for k in ks:\n",
    "    knn = KNeighborsClassifier(n_neighbors=k)\n",
    "    knn.fit(X_treino, y_treino)\n",
    "    pred = knn.predict(X_teste)\n",
    "    acuracias.append(accuracy_score(y_teste, pred))"
   ]
  },
  {
   "cell_type": "code",
   "execution_count": 17,
   "metadata": {
    "colab": {
     "base_uri": "https://localhost:8080/",
     "height": 332
    },
    "id": "a7pqVLYWOA9b",
    "outputId": "1d2ad145-62c7-4c88-fab9-f6a50983cf8e"
   },
   "outputs": [
    {
     "data": {
      "image/png": "[encoded data removed]",
      "text/plain": [
       "<Figure size 576x288 with 1 Axes>"
      ]
     },
     "metadata": {
      "needs_background": "light"
     },
     "output_type": "display_data"
    }
   ],
   "source": [
    "def plot_knn_k_acc(ks, acuracias, titulo=\"\"):\n",
    "    fig, ax = plt.subplots(figsize=(8,4))\n",
    "    ax.scatter(ks, acuracias)\n",
    "    ax.set_xticks(ks)\n",
    "    ax.set_xlabel(\"k\")\n",
    "    ax.set_ylabel(\"Acurácia\")\n",
    "    ax.set_title(titulo)\n",
    "    fig.tight_layout()\n",
    "    plt.show()\n",
    "\n",
    "plot_knn_k_acc(ks, acuracias, \"Teste\")"
   ]
  },
  {
   "cell_type": "code",
   "execution_count": 18,
   "metadata": {
    "colab": {
     "base_uri": "https://localhost:8080/"
    },
    "id": "L7e10vDiOWx0",
    "outputId": "db55e514-a202-49f1-ffec-795d8975319a"
   },
   "outputs": [
    {
     "name": "stdout",
     "output_type": "stream",
     "text": [
      "Melhor k no teste: 3 (acc=0.97)\n"
     ]
    }
   ],
   "source": [
    "melhor_k_teste = ks[np.argmax(acuracias)]\n",
    "print(\"Melhor k no teste: %d (acc=%.2f)\" % (melhor_k_teste, max(acuracias)))"
   ]
  },
  {
   "cell_type": "markdown",
   "metadata": {
    "id": "9kap4CHpREkl"
   },
   "source": [
    "# Otimização de hiperparâmetros usando um conjunto de validação"
   ]
  },
  {
   "cell_type": "code",
   "execution_count": 19,
   "metadata": {
    "id": "tpdqaoyuPs6a"
   },
   "outputs": [],
   "source": [
    "X = ds.data.values\n",
    "y = ds.target.values\n",
    "X_treino, X_teste, y_treino, y_teste = train_test_split(\n",
    "    X, y, test_size=0.2, stratify=y, random_state=1\n",
    ")"
   ]
  },
  {
   "cell_type": "code",
   "execution_count": 20,
   "metadata": {
    "id": "SPb8fphZRO99"
   },
   "outputs": [],
   "source": [
    "X_treino, X_val, y_treino, y_val = train_test_split(\n",
    "    X_treino, y_treino, test_size=0.2, stratify=y_treino, random_state=1\n",
    ")"
   ]
  },
  {
   "cell_type": "code",
   "execution_count": 21,
   "metadata": {
    "colab": {
     "base_uri": "https://localhost:8080/"
    },
    "id": "ezPr67DGR3rf",
    "outputId": "69f20100-fd3a-4012-e313-0f686364ba23"
   },
   "outputs": [
    {
     "data": {
      "text/plain": [
       "((96, 4), (24, 4), (30, 4), (96,), (24,), (30,))"
      ]
     },
     "execution_count": 21,
     "metadata": {},
     "output_type": "execute_result"
    }
   ],
   "source": [
    "X_treino.shape, X_val.shape, X_teste.shape, y_treino.shape, y_val.shape, y_teste.shape"
   ]
  },
  {
   "cell_type": "code",
   "execution_count": 22,
   "metadata": {
    "id": "0TB9YUrbR_EY"
   },
   "outputs": [],
   "source": [
    "ss = StandardScaler()\n",
    "ss.fit(X_treino)\n",
    "X_treino = ss.transform(X_treino)\n",
    "X_teste = ss.transform(X_teste)\n",
    "X_val = ss.transform(X_val)"
   ]
  },
  {
   "cell_type": "code",
   "execution_count": 23,
   "metadata": {
    "colab": {
     "base_uri": "https://localhost:8080/",
     "height": 349
    },
    "id": "bIPPNJi1Se3n",
    "outputId": "5a00183f-3821-4dfe-d547-ac80490a2fd7"
   },
   "outputs": [
    {
     "name": "stdout",
     "output_type": "stream",
     "text": [
      "Melhor k na validação: 7 (acc=0.96)\n"
     ]
    },
    {
     "data": {
      "image/png": "[encoded data removed]",
      "text/plain": [
       "<Figure size 576x288 with 1 Axes>"
      ]
     },
     "metadata": {
      "needs_background": "light"
     },
     "output_type": "display_data"
    }
   ],
   "source": [
    "acuracias_val = []\n",
    "ks = list(range(1,30,2))\n",
    "\n",
    "for k in ks:\n",
    "    knn = KNeighborsClassifier(n_neighbors=k)\n",
    "    knn.fit(X_treino, y_treino)\n",
    "    pred = knn.predict(X_val)\n",
    "    acuracias_val.append(accuracy_score(y_val, pred))\n",
    "\n",
    "melhor_val = max(acuracias_val)\n",
    "melhor_k = ks[np.argmax(acuracias_val)]\n",
    "print(\"Melhor k na validação: %d (acc=%.2f)\" % (melhor_k, melhor_val))\n",
    "plot_knn_k_acc(ks, acuracias_val, \"Validação\")"
   ]
  },
  {
   "cell_type": "code",
   "execution_count": 24,
   "metadata": {
    "colab": {
     "base_uri": "https://localhost:8080/"
    },
    "id": "gRBg_PjfUtAN",
    "outputId": "2f516c82-caa4-4496-eb93-b6ba07070192"
   },
   "outputs": [
    {
     "name": "stdout",
     "output_type": "stream",
     "text": [
      "Acurácia no teste: 0.97\n"
     ]
    }
   ],
   "source": [
    "knn = KNeighborsClassifier(n_neighbors=melhor_k)\n",
    "knn.fit(X_treino, y_treino)\n",
    "pred = knn.predict(X_teste)\n",
    "print(\"Acurácia no teste: %.2f\" % (accuracy_score(y_teste, pred)))"
   ]
  },
  {
   "cell_type": "code",
   "execution_count": 25,
   "metadata": {
    "colab": {
     "base_uri": "https://localhost:8080/"
    },
    "id": "kvJUIWpAVjYd",
    "outputId": "83c76119-b6e8-4b6d-916a-256a0c1bede5"
   },
   "outputs": [
    {
     "name": "stdout",
     "output_type": "stream",
     "text": [
      "Acurácia no teste: 0.97\n"
     ]
    }
   ],
   "source": [
    "#usando treino + validação para treinar o modelo final\n",
    "knn = KNeighborsClassifier(n_neighbors=melhor_k)\n",
    "knn.fit(np.vstack((X_treino, X_val)), [*y_treino, *y_val])\n",
    "pred = knn.predict(X_teste)\n",
    "print(\"Acurácia no teste: %.2f\" % (accuracy_score(y_teste, pred)))"
   ]
  },
  {
   "cell_type": "code",
   "execution_count": 26,
   "metadata": {
    "id": "e1WFiGOxWnD7"
   },
   "outputs": [],
   "source": [
    "def selecionar_melhor_k(ks, X_treino, X_val, y_treino, y_val):\n",
    "    acuracias_val = []\n",
    "    for k in ks:\n",
    "        knn = KNeighborsClassifier(n_neighbors=k)\n",
    "        knn.fit(X_treino, y_treino)\n",
    "        pred = knn.predict(X_val)\n",
    "        acuracias_val.append(accuracy_score(y_val, pred))\n",
    "\n",
    "    melhor_val = max(acuracias_val)\n",
    "    melhor_k = ks[np.argmax(acuracias_val)]\n",
    "\n",
    "    knn = KNeighborsClassifier(n_neighbors=melhor_k)\n",
    "    knn.fit(np.vstack((X_treino, X_val)), [*y_treino, *y_val])\n",
    "    \n",
    "    return knn, melhor_k, melhor_val"
   ]
  },
  {
   "cell_type": "code",
   "execution_count": 27,
   "metadata": {
    "id": "kg9Cfq6uXzoy"
   },
   "outputs": [],
   "source": [
    "knn, melhor_k, melhor_val = selecionar_melhor_k(\n",
    "    range(1,30,2),\n",
    "    X_treino, X_val, y_treino, y_val\n",
    ")"
   ]
  },
  {
   "cell_type": "code",
   "execution_count": 28,
   "metadata": {
    "colab": {
     "base_uri": "https://localhost:8080/"
    },
    "id": "UGDhGl1CYC-v",
    "outputId": "598cdca3-128f-4a78-d023-4e41c49a3762"
   },
   "outputs": [
    {
     "name": "stdout",
     "output_type": "stream",
     "text": [
      "Melhor k na validação: 7 (acc=0.96)\n",
      "Acurácia no teste: 0.97\n"
     ]
    }
   ],
   "source": [
    "pred = knn.predict(X_teste)\n",
    "acc = accuracy_score(y_teste, pred)\n",
    "print(\"Melhor k na validação: %d (acc=%.2f)\" % (melhor_k, melhor_val))\n",
    "print(\"Acurácia no teste: %.2f\" % acc)\n"
   ]
  },
  {
   "cell_type": "code",
   "execution_count": null,
   "metadata": {
    "id": "pCgomxYHYapB"
   },
   "outputs": [],
   "source": []
  },
  {
   "cell_type": "code",
   "execution_count": null,
   "metadata": {},
   "outputs": [],
   "source": []
  }
 ],
 "metadata": {
  "colab": {
   "provenance": []
  },
  "kernelspec": {
   "display_name": "Python 3 (ipykernel)",
   "language": "python",
   "name": "python3"
  },
  "language_info": {
   "codemirror_mode": {
    "name": "ipython",
    "version": 3
   },
   "file_extension": ".py",
   "mimetype": "text/x-python",
   "name": "python",
   "nbconvert_exporter": "python",
   "pygments_lexer": "ipython3",
   "version": "3.10.6"
  }
 },
 "nbformat": 4,
 "nbformat_minor": 1
}
