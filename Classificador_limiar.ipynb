{
 "cells": [
  {
   "cell_type": "code",
   "execution_count": 21,
   "id": "69dcf357",
   "metadata": {},
   "outputs": [],
   "source": [
    "import numpy as np\n",
    "import pandas as pd\n",
    "from sklearn.model_selection import train_test_split\n",
    "from sklearn.metrics import accuracy_score"
   ]
  },
  {
   "cell_type": "code",
   "execution_count": 4,
   "id": "ea5e9d66",
   "metadata": {},
   "outputs": [],
   "source": [
    "df1 = pd.read_csv(\"biometria.csv\")"
   ]
  },
  {
   "cell_type": "code",
   "execution_count": 5,
   "id": "414f86b1",
   "metadata": {},
   "outputs": [
    {
     "data": {
      "text/html": [
       "<div>\n",
       "<style scoped>\n",
       "    .dataframe tbody tr th:only-of-type {\n",
       "        vertical-align: middle;\n",
       "    }\n",
       "\n",
       "    .dataframe tbody tr th {\n",
       "        vertical-align: top;\n",
       "    }\n",
       "\n",
       "    .dataframe thead th {\n",
       "        text-align: right;\n",
       "    }\n",
       "</style>\n",
       "<table border=\"1\" class=\"dataframe\">\n",
       "  <thead>\n",
       "    <tr style=\"text-align: right;\">\n",
       "      <th></th>\n",
       "      <th>Esporte</th>\n",
       "      <th>Altura (m)</th>\n",
       "      <th>Peso (kg)</th>\n",
       "    </tr>\n",
       "  </thead>\n",
       "  <tbody>\n",
       "    <tr>\n",
       "      <th>0</th>\n",
       "      <td>V</td>\n",
       "      <td>1.90</td>\n",
       "      <td>76</td>\n",
       "    </tr>\n",
       "    <tr>\n",
       "      <th>1</th>\n",
       "      <td>V</td>\n",
       "      <td>1.98</td>\n",
       "      <td>70</td>\n",
       "    </tr>\n",
       "    <tr>\n",
       "      <th>2</th>\n",
       "      <td>V</td>\n",
       "      <td>2.04</td>\n",
       "      <td>101</td>\n",
       "    </tr>\n",
       "    <tr>\n",
       "      <th>3</th>\n",
       "      <td>V</td>\n",
       "      <td>1.88</td>\n",
       "      <td>77</td>\n",
       "    </tr>\n",
       "    <tr>\n",
       "      <th>4</th>\n",
       "      <td>V</td>\n",
       "      <td>2.14</td>\n",
       "      <td>109</td>\n",
       "    </tr>\n",
       "  </tbody>\n",
       "</table>\n",
       "</div>"
      ],
      "text/plain": [
       "  Esporte  Altura (m)  Peso (kg)\n",
       "0       V        1.90         76\n",
       "1       V        1.98         70\n",
       "2       V        2.04        101\n",
       "3       V        1.88         77\n",
       "4       V        2.14        109"
      ]
     },
     "execution_count": 5,
     "metadata": {},
     "output_type": "execute_result"
    }
   ],
   "source": [
    "df1.head(5)"
   ]
  },
  {
   "cell_type": "code",
   "execution_count": 74,
   "id": "de3bcf97",
   "metadata": {},
   "outputs": [],
   "source": [
    "x_treino, x_teste, y_treino, y_teste = train_test_split(\n",
    "    df1[[\"Altura (m)\", \"Peso (kg)\"]],\n",
    "    df1[\"Esporte\"], \n",
    "    test_size=0.2,\n",
    "    stratify=df1[\"Esporte\"])"
   ]
  },
  {
   "cell_type": "code",
   "execution_count": 75,
   "id": "89ff89c2",
   "metadata": {},
   "outputs": [
    {
     "data": {
      "text/plain": [
       "((36, 2), (9, 2), (36,), (9,))"
      ]
     },
     "execution_count": 75,
     "metadata": {},
     "output_type": "execute_result"
    }
   ],
   "source": [
    "x_treino.shape, x_teste.shape, y_treino.shape, y_teste.shape"
   ]
  },
  {
   "cell_type": "code",
   "execution_count": 76,
   "id": "3e8611e6",
   "metadata": {},
   "outputs": [
    {
     "data": {
      "text/plain": [
       "(F    18\n",
       " V    18\n",
       " Name: Esporte, dtype: int64,\n",
       " F    5\n",
       " V    4\n",
       " Name: Esporte, dtype: int64)"
      ]
     },
     "execution_count": 76,
     "metadata": {},
     "output_type": "execute_result"
    }
   ],
   "source": [
    "y_treino.value_counts(), y_teste.value_counts()"
   ]
  },
  {
   "cell_type": "code",
   "execution_count": 77,
   "id": "4a76a578",
   "metadata": {},
   "outputs": [],
   "source": [
    "def classificador_limiar(limiar, dados, coluna, rotulos=[\"F\", \"V\"]):\n",
    "    predicoes = []\n",
    "    for idx, dado in dados.iterrows():\n",
    "        if dado[coluna] < limiar:\n",
    "            predicoes.append(rotulos[0])\n",
    "        else:\n",
    "            predicoes.append(rotulos[1])\n",
    "    return predicoes"
   ]
  },
  {
   "cell_type": "code",
   "execution_count": null,
   "id": "e19394ee",
   "metadata": {},
   "outputs": [],
   "source": []
  },
  {
   "cell_type": "code",
   "execution_count": 78,
   "id": "10fa733a",
   "metadata": {},
   "outputs": [],
   "source": [
    "def busca_exaustiva_classificador_por_linear(n_limiares, x_treino, y_treino, coluna, df = df1):\n",
    "    limiares = np.linspace(df[coluna].min(), \n",
    "                           df[coluna].max(), n_limiares)\n",
    "    acuracias = []\n",
    "\n",
    "    melhor_limiar = limiares[0]\n",
    "    melhor_acuracia = 0\n",
    "\n",
    "    for limiar in limiares:\n",
    "        predicoes = classificador_limiar(limiar, x_treino, coluna)\n",
    "        acuracia = accuracy_score(y_treino, predicoes)\n",
    "        acuracias.append(acuracia)\n",
    "\n",
    "        if acuracia > melhor_acuracia:\n",
    "            melhor_acuracia = acuracia\n",
    "            melhor_limiar = limiar\n",
    "    return melhor_limiar, melhor_acuracia"
   ]
  },
  {
   "cell_type": "code",
   "execution_count": 79,
   "id": "e8425604",
   "metadata": {},
   "outputs": [],
   "source": [
    "limiar, acc = busca_exaustiva_classificador_por_linear(100,x_treino, y_treino, \"Altura (m)\")"
   ]
  },
  {
   "cell_type": "code",
   "execution_count": 80,
   "id": "63caae84",
   "metadata": {},
   "outputs": [
    {
     "data": {
      "text/plain": [
       "(1.8927272727272726, 0.9166666666666666)"
      ]
     },
     "execution_count": 80,
     "metadata": {},
     "output_type": "execute_result"
    }
   ],
   "source": [
    "limiar, acc"
   ]
  },
  {
   "cell_type": "code",
   "execution_count": 81,
   "id": "439c6792",
   "metadata": {},
   "outputs": [],
   "source": [
    "pred = classificador_limiar(limiar, x_teste, \"Altura (m)\")"
   ]
  },
  {
   "cell_type": "raw",
   "id": "ddadb890",
   "metadata": {},
   "source": []
  },
  {
   "cell_type": "code",
   "execution_count": 82,
   "id": "75038550",
   "metadata": {},
   "outputs": [
    {
     "data": {
      "text/plain": [
       "['V', 'F', 'F', 'V', 'F', 'V', 'V', 'F', 'V']"
      ]
     },
     "execution_count": 82,
     "metadata": {},
     "output_type": "execute_result"
    }
   ],
   "source": [
    "pred"
   ]
  },
  {
   "cell_type": "code",
   "execution_count": 83,
   "id": "b137e3b0",
   "metadata": {},
   "outputs": [
    {
     "data": {
      "text/plain": [
       "0.8888888888888888"
      ]
     },
     "execution_count": 83,
     "metadata": {},
     "output_type": "execute_result"
    }
   ],
   "source": [
    "accuracy_score(y_teste,pred)"
   ]
  },
  {
   "cell_type": "code",
   "execution_count": 94,
   "id": "bee68167",
   "metadata": {},
   "outputs": [
    {
     "name": "stdout",
     "output_type": "stream",
     "text": [
      "0.84 +- 0.12, min: 0.67, max: 1.00\n"
     ]
    }
   ],
   "source": [
    "rns = [99,0,129,56,78,98,52,6,4,42]\n",
    "results = []\n",
    "for rng in rns:\n",
    "    x_treino, x_teste, y_treino, y_teste = train_test_split(\n",
    "        df1[[\"Altura (m)\", \"Peso (kg)\"]],\n",
    "        df1[\"Esporte\"], \n",
    "        test_size=0.2,\n",
    "        stratify=df1[\"Esporte\"], random_state=rng, shuffle = True)\n",
    "    \n",
    "    limiar, acc = busca_exaustiva_classificador_por_linear(100,x_treino, y_treino, \"Altura (m)\")\n",
    "    \n",
    "    pred = classificador_limiar(limiar, x_teste, \"Altura (m)\")\n",
    "    \n",
    "    results.append( accuracy_score(y_teste,pred))\n",
    "   \n",
    "print(\"%.2f +- %.2f, min: %.2f, max: %.2f\" % (np.mean(results), np.std(results), min(results), max(results)))"
   ]
  },
  {
   "cell_type": "code",
   "execution_count": null,
   "id": "9f409fc8",
   "metadata": {},
   "outputs": [],
   "source": []
  }
 ],
 "metadata": {
  "kernelspec": {
   "display_name": "Python 3 (ipykernel)",
   "language": "python",
   "name": "python3"
  },
  "language_info": {
   "codemirror_mode": {
    "name": "ipython",
    "version": 3
   },
   "file_extension": ".py",
   "mimetype": "text/x-python",
   "name": "python",
   "nbconvert_exporter": "python",
   "pygments_lexer": "ipython3",
   "version": "3.10.6"
  }
 },
 "nbformat": 4,
 "nbformat_minor": 5
}
